{
 "cells": [
  {
   "cell_type": "markdown",
   "metadata": {},
   "source": [
    "### 一.GCN的DGL实现     \n",
    "\n",
    "我们先拎GCN出来看看，如何将其拆分为3个基本函数的形式，我们先回顾一下它的矩阵更新形式：   \n",
    "\n",
    "$$\n",
    "X^{(t+1)}=\\sigma(\\tilde{L}_{sym}X^{(t)}W^{(t)})\n",
    "$$  \n",
    "我们可以如下拆解：   \n",
    "\n",
    "**消息传递函数**   \n",
    "\n",
    "$$\n",
    "m_{uv}^{(t+1)}=\\frac{X_{v,:}^{(t)}W^{(t)}}{\\sqrt{d_u}\\cdot \\sqrt{d_v}}\n",
    "$$   \n",
    "\n",
    "这里，$d_u,d_v$分别表示节点$u,v$的度，$X_{v,:}^{(t)}$表示节点$v$的第$t$层的特征向量（这里是行向量表示），$W^{(t)}$是它在第$t$层的训练参数   \n",
    "\n",
    "**聚合函数**\n",
    "$$\n",
    "\\rho_u^{(t+1)}=\\sum_{v\\in N(u)}m_{uv}^{(t+1)}\n",
    "$$  \n",
    "\n",
    "这里，只是简单将每条边上的消息相加  \n",
    "\n",
    "**更新函数**  \n",
    "$$\n",
    "X_{u,:}^{(t+1)}=\\sigma(\\rho_u^{(t+1)})\n",
    "$$  \n",
    "\n",
    "就在聚合函数的基础上简单添加了一个激活函数即可"
   ]
  },
  {
   "cell_type": "markdown",
   "metadata": {},
   "source": [
    "### 二.实现  \n",
    "\n",
    "只需要在之前gcn.py的基础上修改即可，下面说下主要修改的地方    \n",
    "\n",
    "**2.1 将连接矩阵修改为DGLGraph**    \n",
    "\n",
    "```python\n",
    "    @staticmethod\n",
    "    def build_dgl_graph(adj_dict):\n",
    "        \"\"\"根据邻接表创建邻接矩阵\"\"\"\n",
    "        edge_index = []\n",
    "        for key in adj_dict.keys():\n",
    "            edge_index.append([key, key])\n",
    "            for item in adj_dict[key]:\n",
    "                edge_index.append([key, item])\n",
    "                edge_index.append([item, key])\n",
    "        u, v = torch.tensor([item[0] for item in edge_index]), torch.tensor([item[1] for item in edge_index])\n",
    "        return dgl.graph((u, v))\n",
    "```  \n",
    "\n",
    "**2.2 GraphConvolution的Forward修改为DGL实现（核心）**\n",
    "\n",
    "```python\n",
    "class GraphConvolution(nn.Module):\n",
    "    def __init__(self, input_dim, output_dim, use_bias=True):\n",
    "        super(GraphConvolution, self).__init__()\n",
    "        self.input_dim = input_dim\n",
    "        self.output_dim = output_dim\n",
    "        self.use_bias = use_bias\n",
    "        self.weight = nn.Parameter(torch.Tensor(input_dim, output_dim))\n",
    "        if self.use_bias:\n",
    "            self.bias = nn.Parameter(torch.Tensor(output_dim))\n",
    "        else:\n",
    "            self.register_parameter('bias', None)\n",
    "        self.reset_parameters()\n",
    "\n",
    "    def reset_parameters(self):\n",
    "        nn.init.kaiming_uniform_(self.weight)\n",
    "        if self.use_bias:\n",
    "            nn.init.zeros_(self.bias)\n",
    "\n",
    "    def message_func(self, edges):\n",
    "        message = torch.mm(\n",
    "            edges.src[\"in_feature\"] / torch.sqrt(edges.src['degree'] * edges.dst['degree']).reshape((-1, 1)),\n",
    "            self.weight)\n",
    "        if self.use_bias:\n",
    "            message += self.bias\n",
    "        return {\"m\": message}\n",
    "\n",
    "    def forward(self, dgl_graph: dgl.graph, input_feature):\n",
    "        with dgl_graph.local_scope():\n",
    "            dgl_graph.ndata[\"in_feature\"] = input_feature\n",
    "            dgl_graph.ndata[\"degree\"] = dgl_graph.in_degrees()\n",
    "            dgl_graph.update_all(\n",
    "                self.message_func,\n",
    "                dgl.function.sum(\"m\", \"neigh_sum\")\n",
    "            )\n",
    "            return dgl_graph.ndata[\"neigh_sum\"]\n",
    "```"
   ]
  },
  {
   "cell_type": "code",
   "execution_count": 1,
   "metadata": {},
   "outputs": [
    {
     "name": "stderr",
     "output_type": "stream",
     "text": [
      "Using backend: pytorch\n"
     ]
    }
   ],
   "source": [
    "from code.gcn_dgl import *"
   ]
  },
  {
   "cell_type": "code",
   "execution_count": 2,
   "metadata": {},
   "outputs": [
    {
     "name": "stdout",
     "output_type": "stream",
     "text": [
      "Using Cached file: E:\\datas\\Algs\\GNN\\cora\\processed_cora_dgl.pkl\n",
      "Cached file: E:\\datas\\Algs\\GNN\\cora\\processed_cora_dgl.pkl\n"
     ]
    }
   ],
   "source": [
    "#1.加载数据\n",
    "dataset = CoraData().data"
   ]
  },
  {
   "cell_type": "code",
   "execution_count": 3,
   "metadata": {},
   "outputs": [
    {
     "data": {
      "text/plain": [
       "Graph(num_nodes=2708, num_edges=24424,\n",
       "      ndata_schemes={}\n",
       "      edata_schemes={})"
      ]
     },
     "execution_count": 3,
     "metadata": {},
     "output_type": "execute_result"
    }
   ],
   "source": [
    "dataset.dgl_graph"
   ]
  },
  {
   "cell_type": "code",
   "execution_count": 4,
   "metadata": {},
   "outputs": [],
   "source": [
    "#如果有GPU则使用GPU\n",
    "device = \"cuda\" if torch.cuda.is_available() else \"cpu\"\n",
    "#接着预处理剩下的数据\n",
    "x = dataset.x / dataset.x.sum(1, keepdims=True)\n",
    "# 归一化数据，使得每一行和为1\n",
    "tensor_x = torch.from_numpy(x).to(device)\n",
    "tensor_y = torch.from_numpy(dataset.y).to(device)\n",
    "tensor_train_mask = torch.from_numpy(dataset.trn_mask).to(device)\n",
    "tensor_val_mask = torch.from_numpy(dataset.val_mask).to(device)\n",
    "tensor_test_mask = torch.from_numpy(dataset.test_mask).to(device)"
   ]
  },
  {
   "cell_type": "code",
   "execution_count": 5,
   "metadata": {},
   "outputs": [],
   "source": [
    "#2.构建模型\n",
    "model = GCNNet().to(device)"
   ]
  },
  {
   "cell_type": "code",
   "execution_count": 6,
   "metadata": {},
   "outputs": [],
   "source": [
    "def accuracy(mask):\n",
    "    model.eval()\n",
    "    with torch.no_grad():\n",
    "        logits = model(dataset.dgl_graph, tensor_x)\n",
    "        test_mask_logits = logits[mask]\n",
    "        predict_y = test_mask_logits.max(1)[1]\n",
    "        accuracy = torch.eq(predict_y, tensor_y[mask]).float().mean()\n",
    "    return accuracy"
   ]
  },
  {
   "cell_type": "code",
   "execution_count": 7,
   "metadata": {},
   "outputs": [],
   "source": [
    "#3.训练模型\n",
    "# 超参数定义\n",
    "learning_rate = 0.01\n",
    "weight_decay = 5e-4\n",
    "epochs = 200\n",
    "# 损失函数使用交叉熵\n",
    "criterion = nn.CrossEntropyLoss().to(device)\n",
    "# 优化器使用Adam\n",
    "optimizer = optim.Adam(model.parameters(), lr=learning_rate, weight_decay=weight_decay)\n",
    "# 训练\n",
    "trn_acc_history = []\n",
    "val_acc_history = []\n",
    "model.train()\n",
    "train_y = tensor_y[tensor_train_mask]\n",
    "for epoch in range(epochs):\n",
    "    # 前向传播\n",
    "    logits = model(dataset.dgl_graph, tensor_x)\n",
    "    # 只选择训练节点进行监督\n",
    "    train_mask_logits = logits[tensor_train_mask]\n",
    "    # 计算损失值\n",
    "    loss = criterion(train_mask_logits, train_y)\n",
    "    # 反向传播计算参数的梯度\n",
    "    optimizer.zero_grad()\n",
    "    loss.backward()\n",
    "    # 使用优化方法进行梯度更新\n",
    "    optimizer.step()\n",
    "    # 计算当前模型在训练集上的准确率\n",
    "    train_acc = accuracy(tensor_train_mask)\n",
    "    trn_acc_history.append(train_acc)\n",
    "    # 计算当前模型在验证集上的准确率\n",
    "    val_acc = accuracy(tensor_val_mask)\n",
    "    val_acc_history.append(val_acc)"
   ]
  },
  {
   "cell_type": "code",
   "execution_count": 8,
   "metadata": {},
   "outputs": [
    {
     "data": {
      "text/plain": [
       "<matplotlib.legend.Legend at 0x1a3b8099f60>"
      ]
     },
     "execution_count": 8,
     "metadata": {},
     "output_type": "execute_result"
    },
    {
     "data": {
      "image/png": "[encoded data removed]",
      "text/plain": [
       "<Figure size 432x288 with 1 Axes>"
      ]
     },
     "metadata": {
      "needs_background": "light"
     },
     "output_type": "display_data"
    }
   ],
   "source": [
    "import matplotlib.pyplot as plt\n",
    "%matplotlib inline\n",
    "plt.plot(val_acc_history)\n",
    "plt.plot(trn_acc_history)\n",
    "plt.legend(['val acc','trn acc'])"
   ]
  },
  {
   "cell_type": "code",
   "execution_count": null,
   "metadata": {},
   "outputs": [],
   "source": []
  }
 ],
 "metadata": {
  "kernelspec": {
   "display_name": "Python 3",
   "language": "python",
   "name": "python3"
  },
  "language_info": {
   "codemirror_mode": {
    "name": "ipython",
    "version": 3
   },
   "file_extension": ".py",
   "mimetype": "text/x-python",
   "name": "python",
   "nbconvert_exporter": "python",
   "pygments_lexer": "ipython3",
   "version": "3.7.0"
  }
 },
 "nbformat": 4,
 "nbformat_minor": 5
}
