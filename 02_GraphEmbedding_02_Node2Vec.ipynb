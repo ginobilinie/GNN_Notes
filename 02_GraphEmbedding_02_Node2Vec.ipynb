{
 "cells": [
  {
   "cell_type": "markdown",
   "metadata": {},
   "source": [
    "### 一.Node2Vec原理\n",
    "Node2vec其实是对于DeepWalk中第2)步，随机游走方式的调整，以学习到图结构的同质性和结构性信息。这里：  \n",
    "\n",
    "1）同质性是指相邻两节点之间应该具有较高的相似度；    \n",
    "\n",
    "2）结构性是指邻居结构相似的两节点之间应该具有较高的相似度，即使这两节点之间没有路径连接    \n",
    "\n",
    "如下图，u与s1,s2,s3,s4之间在同质性上应该具有较高的相似度，而u与s6在结构性上应该具有较高相似度\n",
    "![avatar](./pic/node2vec1.jpg)  \n",
    "\n",
    "那如何游走才能提现同质性和结构性呢，这其实可以利用我们常见的图搜索算法，深度优先搜索(DFS)和广度优先搜索(BFS):   \n",
    "\n",
    "1)DFS:深度优先搜索，在相俩节点间游走，倾向于获取同质性信息；   \n",
    "\n",
    "2)BFS:广度优先搜索，优先获取节点周围邻居序列，倾向于获取结构性信息；    \n",
    "\n",
    "具体的游走方式如下 \n",
    "![avatar](./pic/node2vec2.jpg)  \n",
    "\n",
    "已知，当前序列的最后两节点为[t,v]，即最后一步游走为t->v，那么接下的游走方式满足如下公式：   \n",
    "![avatar](./pic/node2vec3.jpg)\n",
    "下面直观解释一下这三种情况：   \n",
    "\n",
    ">(1) $d_{tx}=0$，表示$t$节点与$x$节点距离为0，所以它们是同一节点，言外之意是说从$v$节点又跳回了前节点$t$，它的跳转概率定义为$\\frac{1}{p}$  \n",
    ">(2) $d_{tx}=1$，表示既与$t$相连，又与$v$相连的节点，如图中的$x_1$，它的跳转概率定义为1   \n",
    ">(3) $d_{tx}=2$，即图中的$x_2,x_3$节点，它们的跳转概率被定义为$\\frac{1}{q}$  \n",
    "\n",
    "注意，上面的“概率”都未归一化，最终需要进行归一化操作，另外node2vec还需要考虑边的权重$w_{vx}$，所以它实际是对$\\pi_{vx}=\\alpha_{pq}(t,x)\\cdot w_{vx}$进行归一化，下面对超参数$p,q$进行讨论；   \n",
    "\n",
    "> 对于p：如果$p>max(q,1)$,那么采样倾向于不会往回走，而如何$p<min(q,1)$，采样倾向于返回上一个节点，在初始点周围游走  \n",
    "\n",
    "> 对于q: 如果$q>1$，采样点倾向于在起始点周围游走做BFS采样，而如果$q<1$，倾向于远离起始点，做DFS采样   \n",
    "\n",
    "### 二.实现"
   ]
  },
  {
   "cell_type": "code",
   "execution_count": 1,
   "metadata": {},
   "outputs": [
    {
     "data": {
      "image/png": "[encoded data removed]",
      "text/plain": [
       "<Figure size 432x288 with 1 Axes>"
      ]
     },
     "metadata": {
      "needs_background": "light"
     },
     "output_type": "display_data"
    }
   ],
   "source": [
    "#构建图\n",
    "%matplotlib inline\n",
    "from matplotlib import pyplot as plt\n",
    "import networkx as nx\n",
    "plt.axis(\"off\")\n",
    "G=nx.DiGraph()\n",
    "edges=[(\"u\",\"s1\"),(\"u\",\"s2\"),(\"u\",\"s3\"),(\"u\",\"s4\"),(\"s1\",\"s2\"),(\"s1\",\"s3\"),(\"s3\",\"s4\"),\n",
    "                  (\"s2\",\"s4\"),(\"s5\",\"s2\"),(\"s4\",\"s5\"),(\"s6\",\"s5\"),(\"s6\",\"s7\"),(\"s6\",\"s8\"),(\"s6\",\"s9\"),\n",
    "                  (\"s5\",\"s7\"),(\"s7\",\"s8\"),(\"s8\",\"s9\")]\n",
    "G.add_edges_from(edges)\n",
    "G.add_edges_from((edge[1],edge[0]) for edge in edges)\n",
    "nx.draw_networkx(G)\n",
    "plt.show()"
   ]
  },
  {
   "cell_type": "code",
   "execution_count": 2,
   "metadata": {},
   "outputs": [],
   "source": [
    "import numpy as np\n",
    "class Node2Vec(object):\n",
    "    def __init__(self,walk_len=10,num_seqs=10,p=1,q=1):\n",
    "        self.walk_len=walk_len\n",
    "        self.num_seqs=num_seqs\n",
    "        self.p=p\n",
    "        self.q=q\n",
    "    def walk_one_time(self,G,start_node):\n",
    "        #添加第二个点\n",
    "        second_node=np.random.choice(list(G.successors(start_node)))\n",
    "        seq=[start_node,second_node]\n",
    "        for _ in range(self.walk_len-2):\n",
    "            t_node=seq[-2]\n",
    "            v_node=seq[-1]\n",
    "            next_nodes=list(G.successors(v_node))#获取所有邻居节点\n",
    "            proba=[]#记录概率\n",
    "            for next_node in next_nodes:\n",
    "                path_len=nx.shortest_path_length(G,source=t_node,target=next_node)\n",
    "                if path_len==0:\n",
    "                    proba.append(1/self.p)\n",
    "                elif path_len==1:\n",
    "                    proba.append(1)\n",
    "                else:\n",
    "                    proba.append(1/self.q)\n",
    "            proba=np.asarray(proba)\n",
    "            proba=proba/np.sum(proba)#归一化\n",
    "            selected_next_node=np.random.choice(next_nodes,p=proba)#从所有邻居中随机选择一个\n",
    "            seq.append(selected_next_node)\n",
    "        return seq\n",
    "    def deep_walk(self,G):\n",
    "        corpus=[]\n",
    "        for _ in range(self.num_seqs):\n",
    "            start_node=np.random.choice(G.nodes)\n",
    "            corpus.append(self.walk_one_time(G,start_node))\n",
    "        return corpus"
   ]
  },
  {
   "cell_type": "code",
   "execution_count": 3,
   "metadata": {},
   "outputs": [],
   "source": [
    "node2vec=Node2Vec(q=2)\n",
    "corpus=node2vec.deep_walk(G)"
   ]
  },
  {
   "cell_type": "code",
   "execution_count": 4,
   "metadata": {},
   "outputs": [
    {
     "data": {
      "text/plain": [
       "[['s1', 'u', 's3', 's4', 's2', 'u', 's1', 's3', 'u', 's1']]"
      ]
     },
     "execution_count": 4,
     "metadata": {},
     "output_type": "execute_result"
    }
   ],
   "source": [
    "corpus[:1]"
   ]
  },
  {
   "cell_type": "code",
   "execution_count": 5,
   "metadata": {},
   "outputs": [],
   "source": [
    "#训练\n",
    "from gensim.models import word2vec\n",
    "model = word2vec.Word2Vec(corpus,window=2,vector_size=5,min_count=1)"
   ]
  },
  {
   "cell_type": "code",
   "execution_count": 6,
   "metadata": {},
   "outputs": [
    {
     "data": {
      "text/plain": [
       "array([-0.14191031,  0.13018166,  0.1809364 , -0.10049632, -0.07593277],\n",
       "      dtype=float32)"
      ]
     },
     "execution_count": 6,
     "metadata": {},
     "output_type": "execute_result"
    }
   ],
   "source": [
    "#查看embedding\n",
    "model.wv['u']"
   ]
  },
  {
   "cell_type": "code",
   "execution_count": 7,
   "metadata": {},
   "outputs": [
    {
     "data": {
      "text/plain": [
       "0.07862966"
      ]
     },
     "execution_count": 7,
     "metadata": {},
     "output_type": "execute_result"
    }
   ],
   "source": [
    "#计算相似度\n",
    "model.wv.similarity(\"u\",\"s5\")"
   ]
  },
  {
   "cell_type": "code",
   "execution_count": 8,
   "metadata": {},
   "outputs": [
    {
     "data": {
      "text/plain": [
       "0.6219288"
      ]
     },
     "execution_count": 8,
     "metadata": {},
     "output_type": "execute_result"
    }
   ],
   "source": [
    "model.wv.similarity(\"u\",\"s6\")"
   ]
  },
  {
   "cell_type": "code",
   "execution_count": null,
   "metadata": {},
   "outputs": [],
   "source": []
  }
 ],
 "metadata": {
  "kernelspec": {
   "display_name": "Python 3",
   "language": "python",
   "name": "python3"
  },
  "language_info": {
   "codemirror_mode": {
    "name": "ipython",
    "version": 3
   },
   "file_extension": ".py",
   "mimetype": "text/x-python",
   "name": "python",
   "nbconvert_exporter": "python",
   "pygments_lexer": "ipython3",
   "version": "3.7.0"
  }
 },
 "nbformat": 4,
 "nbformat_minor": 2
}
