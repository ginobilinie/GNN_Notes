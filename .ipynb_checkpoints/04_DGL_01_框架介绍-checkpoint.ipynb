{
 "cells": [
  {
   "cell_type": "markdown",
   "id": "f0cf0120",
   "metadata": {},
   "source": [
    "### 一.运行机制\n",
    "为了更加高效的运行GNN，我们可以利用一些高效的图计算框架帮助我们训练模型，DGL（Deep Graph Library）便是一种比较方便的框架，它将所有的图计算过程拆分为了三个基本部分，分别介绍如下：   \n",
    "\n",
    "**1.1 消息传递函数**  \n",
    "该函数是将一条边以及与其关联的两个节点的信息进行聚合，然后将聚合后**消息**重新赋值到边上，可以用如下的表达式抽象表达：   \n",
    "\n",
    "$$\n",
    "m_{uv}^{(t+1)}=\\phi(x_u^{(t)},x_v^{(t)},w_{uv}^{(t)})\n",
    "$$  \n",
    "\n",
    "其中，$w_{uv}^{(t)}$表示边$(u,v)$上的特征，$x_u^{(t)}$表示节点$u$上的特征，$x_v^{(t)}$表示节点$v$上的特征  \n",
    "\n",
    "**1.2 聚合函数**   \n",
    "聚合函数是将与训练节点关联的边上的消息，进行聚合：    \n",
    "\n",
    "$$\n",
    "\\rho_u^{t+1}=\\rho(\\{m_{uk}^{(t+1)}\\mid k\\in N(u)\\})\n",
    "$$  \n",
    "\n",
    "这里，$N(u)$表示与节点$u$相连的邻居节点   \n",
    "\n",
    "**1.3 更新函数**  \n",
    "更新函数的作用是将聚合特征与节点的旧特征进行聚合，然后生成节点的新特征：   \n",
    "\n",
    "$$\n",
    "x_u^{(t+1)}=\\varphi(x_u^{(t)},\\rho_u^{t+1})\n",
    "$$   \n",
    "\n",
    "我们之前介绍的GCN，GAT，GraphSAGE便可分解为这三个基本操作函数，接下来我利用DGL库演示一下这3个基本操作"
   ]
  },
  {
   "cell_type": "markdown",
   "id": "f4785f64",
   "metadata": {},
   "source": [
    "### 二.实践  \n",
    "\n",
    "**2.1 构图**：首先构建一张图，并为节点和边赋值"
   ]
  },
  {
   "cell_type": "code",
   "execution_count": 1,
   "id": "c6897da0",
   "metadata": {},
   "outputs": [
    {
     "name": "stderr",
     "output_type": "stream",
     "text": [
      "Using backend: pytorch\n"
     ]
    }
   ],
   "source": [
    "import dgl\n",
    "import torch"
   ]
  },
  {
   "cell_type": "code",
   "execution_count": 2,
   "id": "bd0170fb",
   "metadata": {},
   "outputs": [],
   "source": [
    "u=torch.tensor([0,0,0,0,1,1,2,3,2,4,5,5,6,6,6,7,8])\n",
    "v=torch.tensor([1,2,3,4,2,3,4,4,5,5,6,7,7,8,9,8,9])\n",
    "g=dgl.graph((u,v))"
   ]
  },
  {
   "cell_type": "code",
   "execution_count": 3,
   "id": "17ced9cd",
   "metadata": {},
   "outputs": [
    {
     "data": {
      "image/png": "[encoded data removed]",
      "text/plain": [
       "<Figure size 432x288 with 1 Axes>"
      ]
     },
     "metadata": {},
     "output_type": "display_data"
    }
   ],
   "source": [
    "#转换为networkx可视化\n",
    "%matplotlib inline\n",
    "from matplotlib import pyplot as plt\n",
    "import networkx as nx\n",
    "plt.axis(\"off\")\n",
    "nx.draw_networkx(g.to_networkx())\n",
    "plt.show()"
   ]
  },
  {
   "cell_type": "code",
   "execution_count": 4,
   "id": "278828b6",
   "metadata": {},
   "outputs": [],
   "source": [
    "#分别为节点和边赋值一个三维的向量\n",
    "g.ndata[\"nx\"]=torch.randn(g.num_nodes(),3)\n",
    "g.edata[\"ex\"]=torch.randn(g.num_edges(),3)"
   ]
  },
  {
   "cell_type": "code",
   "execution_count": 5,
   "id": "596a931a",
   "metadata": {},
   "outputs": [
    {
     "data": {
      "text/plain": [
       "(tensor([[ 0.6239,  0.3987, -0.6238],\n",
       "         [-0.7141, -1.0818, -1.0757],\n",
       "         [-0.0540,  1.1078,  0.2700],\n",
       "         [ 0.5681, -1.0023, -1.4963],\n",
       "         [-1.3526, -0.5072,  0.3111],\n",
       "         [ 0.4039,  0.1909,  2.4836],\n",
       "         [ 0.2190,  0.9467, -0.6446],\n",
       "         [-0.5860, -1.7527, -1.0872],\n",
       "         [ 0.8450,  0.9458, -0.5495],\n",
       "         [ 1.3140,  0.4514,  0.5442]]),\n",
       " tensor([[-0.5180, -0.1497,  0.4278],\n",
       "         [ 0.7970, -0.1222, -0.5810],\n",
       "         [-0.9885,  0.7971, -1.0056],\n",
       "         [-0.5377,  0.3229, -0.1410],\n",
       "         [ 1.2062,  1.3272, -0.4768],\n",
       "         [-0.6856,  0.9685, -1.3733],\n",
       "         [ 1.0140, -0.1059,  1.4300],\n",
       "         [-0.4088,  0.5824, -0.4151],\n",
       "         [ 1.4490, -1.0892,  0.2116],\n",
       "         [ 0.2986, -0.0652, -0.4363],\n",
       "         [ 0.7020,  0.6645, -1.1004],\n",
       "         [ 0.7326,  0.5491,  0.8222],\n",
       "         [-0.5815, -1.3774,  0.7640],\n",
       "         [ 1.1323, -1.4232,  0.2073],\n",
       "         [-0.3632, -1.3108, -1.2507],\n",
       "         [-0.7597, -1.1140,  0.2626],\n",
       "         [-0.8476, -1.2887, -0.7922]]))"
      ]
     },
     "execution_count": 5,
     "metadata": {},
     "output_type": "execute_result"
    }
   ],
   "source": [
    "#查看\n",
    "g.ndata[\"nx\"],g.edata[\"ex\"]"
   ]
  },
  {
   "cell_type": "markdown",
   "id": "69e84cce",
   "metadata": {},
   "source": [
    "**2.2 利用apply_edges进行消息传递**  \n",
    "\n",
    "apply_edges可以完成第一个函数的操作，即将两节点特征和边特征进行某种操作，然后将结果保存回边上，我们先用dgl自带的api，将$u,v$节点的特征相加然后赋值到边上"
   ]
  },
  {
   "cell_type": "code",
   "execution_count": 6,
   "id": "11fed676",
   "metadata": {},
   "outputs": [
    {
     "data": {
      "text/plain": [
       "tensor([[-0.0902, -0.6831, -1.6995],\n",
       "        [ 0.5699,  1.5065, -0.3538],\n",
       "        [ 1.1919, -0.6036, -2.1202],\n",
       "        [-0.7288, -0.1085, -0.3128],\n",
       "        [-0.7681,  0.0260, -0.8057],\n",
       "        [-0.1461, -2.0841, -2.5721],\n",
       "        [-1.4066,  0.6007,  0.5811],\n",
       "        [-0.7846, -1.5095, -1.1853],\n",
       "        [ 0.3500,  1.2987,  2.7536],\n",
       "        [-0.9487, -0.3163,  2.7946],\n",
       "        [ 0.6229,  1.1375,  1.8389],\n",
       "        [-0.1821, -1.5618,  1.3964],\n",
       "        [-0.3670, -0.8060, -1.7318],\n",
       "        [ 1.0640,  1.8925, -1.1941],\n",
       "        [ 1.5330,  1.3981, -0.1005],\n",
       "        [ 0.2589, -0.8069, -1.6367],\n",
       "        [ 2.1590,  1.3972, -0.0053]])"
      ]
     },
     "execution_count": 6,
     "metadata": {},
     "output_type": "execute_result"
    }
   ],
   "source": [
    "g.apply_edges(dgl.function.u_add_v(\"nx\",\"nx\",\"add_x\"))#第一个nx表示u上的nx特征，第二个表示v上的nx特征，add_x表示赋值到边上的特征\n",
    "g.edata[\"add_x\"]"
   ]
  },
  {
   "cell_type": "markdown",
   "id": "be0091a8",
   "metadata": {},
   "source": [
    "这个过程也可以写自定义函数进行操作"
   ]
  },
  {
   "cell_type": "code",
   "execution_count": 7,
   "id": "b297ca46",
   "metadata": {},
   "outputs": [],
   "source": [
    "def message_func(edges):\n",
    "     return {'new_add_x': edges.src['nx'] + edges.dst['nx']}"
   ]
  },
  {
   "cell_type": "code",
   "execution_count": 8,
   "id": "828c5b57",
   "metadata": {},
   "outputs": [
    {
     "data": {
      "text/plain": [
       "tensor([[-0.0902, -0.6831, -1.6995],\n",
       "        [ 0.5699,  1.5065, -0.3538],\n",
       "        [ 1.1919, -0.6036, -2.1202],\n",
       "        [-0.7288, -0.1085, -0.3128],\n",
       "        [-0.7681,  0.0260, -0.8057],\n",
       "        [-0.1461, -2.0841, -2.5721],\n",
       "        [-1.4066,  0.6007,  0.5811],\n",
       "        [-0.7846, -1.5095, -1.1853],\n",
       "        [ 0.3500,  1.2987,  2.7536],\n",
       "        [-0.9487, -0.3163,  2.7946],\n",
       "        [ 0.6229,  1.1375,  1.8389],\n",
       "        [-0.1821, -1.5618,  1.3964],\n",
       "        [-0.3670, -0.8060, -1.7318],\n",
       "        [ 1.0640,  1.8925, -1.1941],\n",
       "        [ 1.5330,  1.3981, -0.1005],\n",
       "        [ 0.2589, -0.8069, -1.6367],\n",
       "        [ 2.1590,  1.3972, -0.0053]])"
      ]
     },
     "execution_count": 8,
     "metadata": {},
     "output_type": "execute_result"
    }
   ],
   "source": [
    "g.apply_edges(message_func)\n",
    "g.edata[\"new_add_x\"]"
   ]
  },
  {
   "cell_type": "markdown",
   "id": "e4419022",
   "metadata": {},
   "source": [
    "**2.3 利用update_all组合消息传递函数与聚合函数**  \n",
    "\n",
    "update_all将消息传递和聚合函数一并进行操作，下面演示先将邻居节点特征加到边，然后再将边特征加到节点"
   ]
  },
  {
   "cell_type": "code",
   "execution_count": 9,
   "id": "af2e0e50",
   "metadata": {},
   "outputs": [
    {
     "data": {
      "text/plain": [
       "tensor([[ 0.0000,  0.0000,  0.0000],\n",
       "        [-0.0902, -0.6831, -1.6995],\n",
       "        [-0.1982,  1.5326, -1.1595],\n",
       "        [ 1.0459, -2.6876, -4.6922],\n",
       "        [-2.9200, -1.0173, -0.9170],\n",
       "        [-0.5987,  0.9824,  5.5482],\n",
       "        [ 0.6229,  1.1375,  1.8389],\n",
       "        [-0.5491, -2.3679, -0.3355],\n",
       "        [ 1.3229,  1.0856, -2.8309],\n",
       "        [ 3.6919,  2.7953, -0.1058]])"
      ]
     },
     "execution_count": 9,
     "metadata": {},
     "output_type": "execute_result"
    }
   ],
   "source": [
    "g.update_all(dgl.function.u_add_v(\"nx\",\"nx\",\"add_x\"),\n",
    "             dgl.function.sum(\"add_x\",\"add_edge_x\"))\n",
    "g.ndata[\"add_edge_x\"]"
   ]
  },
  {
   "cell_type": "markdown",
   "id": "3d09ae1f",
   "metadata": {},
   "source": [
    "当然，也可以自定义"
   ]
  },
  {
   "cell_type": "code",
   "execution_count": 10,
   "id": "4ffafb68",
   "metadata": {},
   "outputs": [],
   "source": [
    "def reduce_func(nodes):\n",
    "     return {'new_add_edge_x': torch.sum(nodes.mailbox['add_x'], dim=1)}"
   ]
  },
  {
   "cell_type": "code",
   "execution_count": 11,
   "id": "be5a67b7",
   "metadata": {},
   "outputs": [
    {
     "data": {
      "text/plain": [
       "tensor([[ 0.0000,  0.0000,  0.0000],\n",
       "        [-0.0902, -0.6831, -1.6995],\n",
       "        [-0.1982,  1.5326, -1.1595],\n",
       "        [ 1.0459, -2.6876, -4.6922],\n",
       "        [-2.9200, -1.0173, -0.9170],\n",
       "        [-0.5987,  0.9824,  5.5482],\n",
       "        [ 0.6229,  1.1375,  1.8389],\n",
       "        [-0.5491, -2.3679, -0.3355],\n",
       "        [ 1.3229,  1.0856, -2.8309],\n",
       "        [ 3.6919,  2.7953, -0.1058]])"
      ]
     },
     "execution_count": 11,
     "metadata": {},
     "output_type": "execute_result"
    }
   ],
   "source": [
    "g.update_all(dgl.function.u_add_v(\"nx\",\"nx\",\"add_x\"),\n",
    "             reduce_func)\n",
    "g.ndata[\"new_add_edge_x\"]"
   ]
  },
  {
   "cell_type": "markdown",
   "id": "36cdfce7",
   "metadata": {},
   "source": [
    "**2.3 更新函数：最后组合聚合特征和原特征**   \n",
    "这部分操作就很容易了，因为聚合特征和原特征都在节点上了，所以我们直接操作即可，比如相加"
   ]
  },
  {
   "cell_type": "code",
   "execution_count": 12,
   "id": "b01f0bce",
   "metadata": {},
   "outputs": [
    {
     "data": {
      "text/plain": [
       "tensor([[ 0.6239,  0.3987, -0.6238],\n",
       "        [-0.7141, -1.0818, -1.0757],\n",
       "        [-0.0540,  1.1078,  0.2700],\n",
       "        [ 0.5681, -1.0023, -1.4963],\n",
       "        [-1.3526, -0.5072,  0.3111],\n",
       "        [ 0.4039,  0.1909,  2.4836],\n",
       "        [ 0.2190,  0.9467, -0.6446],\n",
       "        [-0.5860, -1.7527, -1.0872],\n",
       "        [ 0.8450,  0.9458, -0.5495],\n",
       "        [ 1.3140,  0.4514,  0.5442]])"
      ]
     },
     "execution_count": 12,
     "metadata": {},
     "output_type": "execute_result"
    }
   ],
   "source": [
    "g.ndata[\"nx\"]"
   ]
  },
  {
   "cell_type": "code",
   "execution_count": 13,
   "id": "31add3a2",
   "metadata": {},
   "outputs": [
    {
     "data": {
      "text/plain": [
       "tensor([[ 0.6239,  0.3987, -0.6238],\n",
       "        [-0.8044, -1.7649, -2.7753],\n",
       "        [-0.2522,  2.6404, -0.8895],\n",
       "        [ 1.6139, -3.6899, -6.1886],\n",
       "        [-4.2726, -1.5244, -0.6059],\n",
       "        [-0.1948,  1.1733,  8.0318],\n",
       "        [ 0.8419,  2.0842,  1.1943],\n",
       "        [-1.1352, -4.1206, -1.4227],\n",
       "        [ 2.1679,  2.0314, -3.3804],\n",
       "        [ 5.0059,  3.2467,  0.4384]])"
      ]
     },
     "execution_count": 13,
     "metadata": {},
     "output_type": "execute_result"
    }
   ],
   "source": [
    "g.ndata[\"nx\"]=g.ndata[\"nx\"]+g.ndata[\"add_edge_x\"]\n",
    "g.ndata[\"nx\"]#注意从第二行开始看"
   ]
  },
  {
   "cell_type": "markdown",
   "id": "4e5b6efd",
   "metadata": {},
   "source": [
    "下一节，让我们用PageRank来练练手~"
   ]
  },
  {
   "cell_type": "code",
   "execution_count": null,
   "id": "bc4dcaba",
   "metadata": {},
   "outputs": [],
   "source": []
  }
 ],
 "metadata": {
  "kernelspec": {
   "display_name": "Python 3",
   "language": "python",
   "name": "python3"
  },
  "language_info": {
   "codemirror_mode": {
    "name": "ipython",
    "version": 3
   },
   "file_extension": ".py",
   "mimetype": "text/x-python",
   "name": "python",
   "nbconvert_exporter": "python",
   "pygments_lexer": "ipython3",
   "version": "3.8.8"
  }
 },
 "nbformat": 4,
 "nbformat_minor": 5
}
