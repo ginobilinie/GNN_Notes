{
 "cells": [
  {
   "cell_type": "markdown",
   "metadata": {},
   "source": [
    "### 一.基础属性\n",
    "**基本定义**：节点、边   \n",
    "**基本类型**：有向图、无向图；加权图，非加权图；连通图，非连通图；连通分量，强连通分量，弱连通分量；二部图   \n",
    "**邻居，$k$阶邻居，度**  \n",
    "**子图、$k$阶子图、路径、图直径**  \n",
    "**表示方式**: 邻接矩阵，关联矩阵  \n",
    "**遍历方式**：深度优先，广度优先   "
   ]
  },
  {
   "cell_type": "code",
   "execution_count": 1,
   "metadata": {},
   "outputs": [
    {
     "data": {
      "image/png": "[encoded data removed]",
      "text/plain": [
       "<Figure size 432x288 with 1 Axes>"
      ]
     },
     "metadata": {
      "needs_background": "light"
     },
     "output_type": "display_data"
    }
   ],
   "source": [
    "#构建图\n",
    "%matplotlib inline\n",
    "from matplotlib import pyplot as plt\n",
    "import networkx as nx\n",
    "G=nx.Graph()#无向图，有向图用DiGraph\n",
    "G.add_nodes_from([\"A\",\"B\",\"C\",\"D\",\"E\",\"F\",\"G\",\"H\"])\n",
    "G.add_edges_from([(\"A\",\"B\"),(\"A\",\"C\"),(\"B\",\"C\"),(\"C\",\"D\"),(\"E\",\"F\"),(\"F\",\"G\"),(\"G\",\"H\")])\n",
    "nx.draw_networkx(G)\n",
    "plt.show()"
   ]
  },
  {
   "cell_type": "code",
   "execution_count": 2,
   "metadata": {},
   "outputs": [
    {
     "data": {
      "text/plain": [
       "DegreeView({'A': 2, 'B': 2, 'C': 3, 'D': 1, 'E': 1, 'F': 2, 'G': 2, 'H': 1})"
      ]
     },
     "execution_count": 2,
     "metadata": {},
     "output_type": "execute_result"
    }
   ],
   "source": [
    "#度\n",
    "nx.degree(G)"
   ]
  },
  {
   "cell_type": "code",
   "execution_count": 3,
   "metadata": {},
   "outputs": [
    {
     "data": {
      "text/plain": [
       "[{'A', 'B', 'C', 'D'}, {'E', 'F', 'G', 'H'}]"
      ]
     },
     "execution_count": 3,
     "metadata": {},
     "output_type": "execute_result"
    }
   ],
   "source": [
    "#连通分量\n",
    "list(nx.connected_components(G))"
   ]
  },
  {
   "cell_type": "code",
   "execution_count": 4,
   "metadata": {},
   "outputs": [
    {
     "data": {
      "text/plain": [
       "2"
      ]
     },
     "execution_count": 4,
     "metadata": {},
     "output_type": "execute_result"
    }
   ],
   "source": [
    "#图直径:所有两两节点直接最短路径的最大值\n",
    "subG=nx.subgraph(G,[\"A\",\"B\",\"C\",\"D\"])\n",
    "nx.diameter(subG)"
   ]
  },
  {
   "cell_type": "code",
   "execution_count": 5,
   "metadata": {},
   "outputs": [
    {
     "data": {
      "text/plain": [
       "2"
      ]
     },
     "execution_count": 5,
     "metadata": {},
     "output_type": "execute_result"
    }
   ],
   "source": [
    "#路径长度\n",
    "nx.shortest_path_length(G,source=\"A\",target=\"D\")"
   ]
  },
  {
   "cell_type": "markdown",
   "metadata": {},
   "source": [
    "### 二.中心性指标\n",
    "中心性指标主要用于衡量节点在图中的重要性/影响力，我们对节点重要性的解释有很多，不同的解释下判定中心性的指标也有所不同，通常有这些：点度中心性，中介中心性，接近中心性，特征向量中心性，PageRank，hits"
   ]
  },
  {
   "cell_type": "code",
   "execution_count": 6,
   "metadata": {},
   "outputs": [
    {
     "data": {
      "text/plain": [
       "{'A': 0.2857142857142857,\n",
       " 'B': 0.2857142857142857,\n",
       " 'C': 0.42857142857142855,\n",
       " 'D': 0.14285714285714285,\n",
       " 'E': 0.14285714285714285,\n",
       " 'F': 0.2857142857142857,\n",
       " 'G': 0.2857142857142857,\n",
       " 'H': 0.14285714285714285}"
      ]
     },
     "execution_count": 6,
     "metadata": {},
     "output_type": "execute_result"
    }
   ],
   "source": [
    "#点度中心性\n",
    "#节点的邻居越多，它就越重要，定义为：度/(节点数-1)\n",
    "nx.degree_centrality(G)"
   ]
  },
  {
   "cell_type": "code",
   "execution_count": 7,
   "metadata": {},
   "outputs": [
    {
     "data": {
      "text/plain": [
       "{'A': 0.0,\n",
       " 'B': 0.0,\n",
       " 'C': 0.09523809523809523,\n",
       " 'D': 0.0,\n",
       " 'E': 0.0,\n",
       " 'F': 0.09523809523809523,\n",
       " 'G': 0.09523809523809523,\n",
       " 'H': 0.0}"
      ]
     },
     "execution_count": 7,
     "metadata": {},
     "output_type": "execute_result"
    }
   ],
   "source": [
    "#中介中心性\n",
    "#如果该节点出现该其它两两节点路径上的次数越多，它就越重要\n",
    "nx.betweenness_centrality(G)"
   ]
  },
  {
   "cell_type": "code",
   "execution_count": 8,
   "metadata": {},
   "outputs": [
    {
     "data": {
      "text/plain": [
       "{'A': 0.3214285714285714,\n",
       " 'B': 0.3214285714285714,\n",
       " 'C': 0.42857142857142855,\n",
       " 'D': 0.2571428571428571,\n",
       " 'E': 0.21428571428571427,\n",
       " 'F': 0.3214285714285714,\n",
       " 'G': 0.3214285714285714,\n",
       " 'H': 0.21428571428571427}"
      ]
     },
     "execution_count": 8,
     "metadata": {},
     "output_type": "execute_result"
    }
   ],
   "source": [
    "#接近中心性\n",
    "#如果该节点与其它节点之间的距离越近，它就越重要\n",
    "nx.closeness_centrality(G)"
   ]
  },
  {
   "cell_type": "code",
   "execution_count": 9,
   "metadata": {},
   "outputs": [
    {
     "data": {
      "image/png": "[encoded data removed]",
      "text/plain": [
       "<Figure size 432x288 with 1 Axes>"
      ]
     },
     "metadata": {
      "needs_background": "light"
     },
     "output_type": "display_data"
    }
   ],
   "source": [
    "#特征向量中心性\n",
    "#定义：取邻接矩阵特征分解后，最大特征值对应的特征向量\n",
    "#与某节点连接的节点的邻居越多，就越重要\n",
    "#新增加一个节点I来连接两块连通分量\n",
    "G=nx.Graph()\n",
    "G.add_nodes_from([\"A\",\"B\",\"C\",\"D\",\"E\",\"F\",\"G\",\"H\",\"I\"])\n",
    "G.add_edges_from([(\"A\",\"B\"),(\"A\",\"C\"),(\"B\",\"C\"),(\"C\",\"D\"),(\"E\",\"F\"),(\"F\",\"G\"),(\"G\",\"H\"),(\"I\",\"B\"),(\"I\",\"F\")])\n",
    "nx.draw_networkx(G)\n",
    "plt.show()"
   ]
  },
  {
   "cell_type": "code",
   "execution_count": 10,
   "metadata": {},
   "outputs": [
    {
     "data": {
      "text/plain": [
       "{'A': 0.44885390912200857,\n",
       " 'B': 0.5468450989996043,\n",
       " 'C': 0.5135021004101872,\n",
       " 'D': 0.21736961615213216,\n",
       " 'E': 0.09799461776528895,\n",
       " 'F': 0.2314938976977582,\n",
       " 'G': 0.11938887762076224,\n",
       " 'H': 0.0505393145300136,\n",
       " 'I': 0.3294789107351654}"
      ]
     },
     "execution_count": 10,
     "metadata": {},
     "output_type": "execute_result"
    }
   ],
   "source": [
    "nx.eigenvector_centrality(G)"
   ]
  },
  {
   "cell_type": "code",
   "execution_count": 11,
   "metadata": {},
   "outputs": [
    {
     "data": {
      "text/plain": [
       "{'A': 0.10252135128679807,\n",
       " 'B': 0.14929077894067944,\n",
       " 'C': 0.153726203840718,\n",
       " 'D': 0.06022249294537078,\n",
       " 'E': 0.06475108608528522,\n",
       " 'F': 0.16971188372812845,\n",
       " 'G': 0.1235500933464885,\n",
       " 'H': 0.06917616539981883,\n",
       " 'I': 0.1070499444267125}"
      ]
     },
     "execution_count": 11,
     "metadata": {},
     "output_type": "execute_result"
    }
   ],
   "source": [
    "#pagerank\n",
    "nx.pagerank(G)"
   ]
  },
  {
   "cell_type": "code",
   "execution_count": 12,
   "metadata": {},
   "outputs": [
    {
     "data": {
      "text/plain": [
       "({'A': 0.17564701604305502,\n",
       "  'B': 0.21399245433642766,\n",
       "  'C': 0.2009454874842481,\n",
       "  'D': 0.08506205753671801,\n",
       "  'E': 0.03834543957793587,\n",
       "  'F': 0.09058495722206274,\n",
       "  'G': 0.04671661924357704,\n",
       "  'H': 0.019775570471702603,\n",
       "  'I': 0.1289303980842729},\n",
       " {'A': 0.1756470158158291,\n",
       "  'B': 0.21399245588711766,\n",
       "  'C': 0.2009454869245228,\n",
       "  'D': 0.085062057946483,\n",
       "  'E': 0.03834543855419052,\n",
       "  'F': 0.09058495938682286,\n",
       "  'G': 0.04671661787549817,\n",
       "  'H': 0.01977557118599924,\n",
       "  'I': 0.1289303964235366})"
      ]
     },
     "execution_count": 12,
     "metadata": {},
     "output_type": "execute_result"
    }
   ],
   "source": [
    "#hits\n",
    "nx.hits(G)"
   ]
  },
  {
   "cell_type": "code",
   "execution_count": null,
   "metadata": {},
   "outputs": [],
   "source": []
  }
 ],
 "metadata": {
  "kernelspec": {
   "display_name": "Python 3",
   "language": "python",
   "name": "python3"
  },
  "language_info": {
   "codemirror_mode": {
    "name": "ipython",
    "version": 3
   },
   "file_extension": ".py",
   "mimetype": "text/x-python",
   "name": "python",
   "nbconvert_exporter": "python",
   "pygments_lexer": "ipython3",
   "version": "3.7.0"
  }
 },
 "nbformat": 4,
 "nbformat_minor": 2
}
